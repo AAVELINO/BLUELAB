{
  "nbformat": 4,
  "nbformat_minor": 0,
  "metadata": {
    "colab": {
      "name": "CODELAB1.ipynb",
      "provenance": [],
      "collapsed_sections": [],
      "history_visible": true,
      "authorship_tag": "ABX9TyNGJ7LZarvk7H5AAd+ijWbI",
      "include_colab_link": true
    },
    "kernelspec": {
      "name": "python3",
      "display_name": "Python 3"
    },
    "language_info": {
      "name": "python"
    }
  },
  "cells": [
    {
      "cell_type": "markdown",
      "metadata": {
        "id": "view-in-github",
        "colab_type": "text"
      },
      "source": [
        "<a href=\"https://colab.research.google.com/github/AAVELINO/BLUELAB/blob/main/CODELAB1.ipynb\" target=\"_parent\"><img src=\"https://colab.research.google.com/assets/colab-badge.svg\" alt=\"Open In Colab\"/></a>"
      ]
    },
    {
      "cell_type": "markdown",
      "metadata": {
        "id": "AyNnH5cyKU-M"
      },
      "source": [
        "Resolução 1\n"
      ]
    },
    {
      "cell_type": "code",
      "metadata": {
        "colab": {
          "base_uri": "https://localhost:8080/"
        },
        "id": "UR5KoC6GKhVy",
        "outputId": "3515eff8-8351-4d6d-f892-649ebd02a84c"
      },
      "source": [
        "valor_refeicao = 42.54 # float\n",
        "valor_taxa = 10 # int\n",
        "\n",
        "resultado = valor_refeicao + valor_refeicao * (valor_taxa/ 100) #float\n",
        "\n",
        "print(resultado)\n"
      ],
      "execution_count": null,
      "outputs": [
        {
          "output_type": "stream",
          "text": [
            "46.794\n"
          ],
          "name": "stdout"
        }
      ]
    },
    {
      "cell_type": "code",
      "metadata": {
        "colab": {
          "base_uri": "https://localhost:8080/"
        },
        "id": "udTfmEuENHVP",
        "outputId": "8acf1348-2966-43eb-9fa8-d45877720950"
      },
      "source": [
        "valor_refeicao = 42.54 # float\n",
        "valor_taxa = 10 # int\n",
        "\n",
        "resultado = valor_refeicao + valor_refeicao * (valor_taxa/ 100) #float\n",
        "\n",
        "print(f\"R$ {resultado:.2f}\")"
      ],
      "execution_count": null,
      "outputs": [
        {
          "output_type": "stream",
          "text": [
            "R$ 46.79\n"
          ],
          "name": "stdout"
        }
      ]
    },
    {
      "cell_type": "code",
      "metadata": {
        "colab": {
          "base_uri": "https://localhost:8080/"
        },
        "id": "-hohhj4yOa8p",
        "outputId": "9a1fac6b-4660-46a6-9ad3-6d833c255783"
      },
      "source": [
        "valor_refeicao = 42.54 # float\n",
        "valor_taxa = 10 # int\n",
        "\n",
        "resultado = valor_refeicao + valor_refeicao * (valor_taxa/ 100) #float\n",
        "\n",
        "print(\"R$\", resultado)"
      ],
      "execution_count": null,
      "outputs": [
        {
          "output_type": "stream",
          "text": [
            "R$ 46.794\n"
          ],
          "name": "stdout"
        }
      ]
    },
    {
      "cell_type": "markdown",
      "metadata": {
        "id": "RHiZBUySO-Qb"
      },
      "source": [
        "Resolução 2"
      ]
    },
    {
      "cell_type": "code",
      "metadata": {
        "colab": {
          "base_uri": "https://localhost:8080/"
        },
        "id": "KDn9bRabPBqI",
        "outputId": "9bbfef3f-5771-4168-954d-f46254387bb5"
      },
      "source": [
        "valor_total = 100.98\n",
        "valor_pago = 150.00\n",
        "\n",
        "resultado = valor_pago - valor_total\n",
        "\n",
        "print(f\"R${resultado:.2f}\")"
      ],
      "execution_count": null,
      "outputs": [
        {
          "output_type": "stream",
          "text": [
            "R$49.02\n"
          ],
          "name": "stdout"
        }
      ]
    },
    {
      "cell_type": "markdown",
      "metadata": {
        "id": "C1XHseQkQIrJ"
      },
      "source": [
        "Resolução 3"
      ]
    },
    {
      "cell_type": "code",
      "metadata": {
        "colab": {
          "base_uri": "https://localhost:8080/"
        },
        "id": "HRzR883wQMB2",
        "outputId": "ab03e284-1438-43a2-e1b9-5d777119f99f"
      },
      "source": [
        "ano_de_nascimento = 1998\n",
        "ano_atual = 2021\n",
        "\n",
        "idade =  ano_atual - ano_de_nascimento\n",
        "\n",
        "print(\"Sua idade é:\", idade)\n",
        "print(\"Você está na flor da idade\")"
      ],
      "execution_count": null,
      "outputs": [
        {
          "output_type": "stream",
          "text": [
            "Sua idade é: 23\n",
            "Você está na flor da idade\n"
          ],
          "name": "stdout"
        }
      ]
    },
    {
      "cell_type": "code",
      "metadata": {
        "colab": {
          "base_uri": "https://localhost:8080/"
        },
        "id": "A4F7s9qdQE6Y",
        "outputId": "f686f942-5dce-48bc-d77a-bf7c5c163f62"
      },
      "source": [
        "print(\"O primeiro programa a gente nunca esquece\")"
      ],
      "execution_count": null,
      "outputs": [
        {
          "output_type": "stream",
          "text": [
            "O primeiro programa a gente nunca esquece\n"
          ],
          "name": "stdout"
        }
      ]
    },
    {
      "cell_type": "code",
      "metadata": {
        "colab": {
          "base_uri": "https://localhost:8080/"
        },
        "id": "63JFs1R1Vgec",
        "outputId": "f990aeee-8ba5-4a57-bbb3-d90adf13fed4"
      },
      "source": [
        "a = input(\"Nome completo:\")\n",
        "b = input(\"Endereço:\")\n",
        "c = int(input(\"CEP\")), \n",
        "d = int(input(\"Telefone\"))\n",
        "print(a, b, c,\"\\n\", d)"
      ],
      "execution_count": null,
      "outputs": [
        {
          "output_type": "stream",
          "text": [
            "Nome completo:Ana Luiza Avelino de Sena\n",
            "Endereço:Rua: José Lourenço Kelmer, 1137, São Pedro, JF, MG\n",
            "CEP36036330\n",
            "Telefone32998084596\n",
            "Ana Luiza Avelino de Sena Rua: José Lourenço Kelmer, 1137, São Pedro, JF, MG (36036330,) \n",
            " 32998084596\n"
          ],
          "name": "stdout"
        }
      ]
    },
    {
      "cell_type": "markdown",
      "metadata": {
        "id": "i-RFM2Q1Z1Tt"
      },
      "source": [
        "Resolução 4\n"
      ]
    },
    {
      "cell_type": "code",
      "metadata": {
        "colab": {
          "base_uri": "https://localhost:8080/"
        },
        "id": "zPv1GcJ7Z4YX",
        "outputId": "bc75214c-e247-4060-8991-cec8ebca8cf3"
      },
      "source": [
        "print(\"A garganta é a gruta que guarda o som\" \"\\n\" \"A garganta está entre a mente e o coração\" \"\\n\" \"Vem coisa de cima, vem coisa de baixo, e de repente o — oh!\" \"\\n\" \"(E o que eu quero dizer...)\" \"\\n\" \"Às vezes acontece um negócio esquisito\" \"\\n\" \"Quando eu quero falar eu grito\" \"\\n\" \"Quando eu quero gritar eu falo\" \"\\n\" \"O resultado: calo\" \"\\n\" \"Camadas e camadas de medo e amor recolhido,\" \"\\n\" \"Fendas, rachaduras, sucupulsas, esfenoides\" \"\\n\" \"Dando adeus\" \"\\n\" \"Dando a Deus\" \" \\n\" \"Por que será que às vezes eu ainda fico assim, só\" \"\\n\" \"Sem voz\" \"\\n\" \"Sendo que tudo que eu quero é estar com voz\" \"\\n\" \"Porque voz é o que me dá o sustento e alegria de cantar\" \"\\n\" \"Por isso um dia eu pedi que voz comigo sempre estivesse\" \"\\n\" \"E um pensamento veio em resposta:\" \"\\n\" \"Duvidar que dentro de mim há voz\" \"\\n\" \"Não é o mesmo que duvidar de vós?\")"
      ],
      "execution_count": null,
      "outputs": [
        {
          "output_type": "stream",
          "text": [
            "A garganta é a gruta que guarda o som\n",
            "A garganta está entre a mente e o coração\n",
            "Vem coisa de cima, vem coisa de baixo, e de repente o — oh!\n",
            "(E o que eu quero dizer...)\n",
            "Às vezes acontece um negócio esquisito\n",
            "Quando eu quero falar eu grito\n",
            "Quando eu quero gritar eu falo\n",
            "O resultado: calo\n",
            "Camadas e camadas de medo e amor recolhido,\n",
            "Fendas, rachaduras, sucupulsas, esfenoides\n",
            "Dando adeus\n",
            "Dando a Deus \n",
            "Por que será que às vezes eu ainda fico assim, só\n",
            "Sem voz\n",
            "Sendo que tudo que eu quero é estar com voz\n",
            "Porque voz é o que me dá o sustento e alegria de cantar\n",
            "Por isso um dia eu pedi que voz comigo sempre estivesse\n",
            "E um pensamento veio em resposta:\n",
            "Duvidar que dentro de mim há voz\n",
            "Não é o mesmo que duvidar de vós?\n"
          ],
          "name": "stdout"
        }
      ]
    },
    {
      "cell_type": "code",
      "metadata": {
        "colab": {
          "base_uri": "https://localhost:8080/"
        },
        "id": "wf-R7HoyczOt",
        "outputId": "7f183c26-aab6-4e35-c6aa-668ded2fd07e"
      },
      "source": [
        "print(\"ALUNO(A)\", \"NOTA\")\n",
        "print(\"-------\",  \"-----\") \n",
        "print(\"Aline\",          9)\n",
        "print(\"Mário\",         10)\n",
        "print(\"Sérgio\",         6) \n",
        "print(\"Shirley\",        7)\n",
        "print(\"André\",          9)\n",
        "print(\"Ana\",           10)\n",
        " \n",
        "\n",
        " "
      ],
      "execution_count": null,
      "outputs": [
        {
          "output_type": "stream",
          "text": [
            "ALUNO(A) NOTA\n",
            "------- -----\n",
            "Aline 9\n",
            "Mário 10\n",
            "Sérgio 6\n",
            "Shirley 7\n",
            "André 9\n",
            "Ana 10\n"
          ],
          "name": "stdout"
        }
      ]
    },
    {
      "cell_type": "code",
      "metadata": {
        "colab": {
          "base_uri": "https://localhost:8080/"
        },
        "id": "WqohtKf9qEcz",
        "outputId": "0b3a3030-a3ff-4f4e-8bc1-6c5a003fa086"
      },
      "source": [
        "print(\"ALUNO (A)  NOTA\")\n",
        "print(\"=========  ====\")\n",
        "print(\"ALINE      9.0\")\n",
        "print(\"MÁRIO      DEZ\")\n",
        "print(\"SÉRGIO     4.5\")\n",
        "print(\"SHIRLEY    7.0\")"
      ],
      "execution_count": null,
      "outputs": [
        {
          "output_type": "stream",
          "text": [
            "ALUNO (A)  NOTA\n",
            "=========  ====\n",
            "ALINE      9.0\n",
            "MÁRIO      DEZ\n",
            "SÉRGIO     4.5\n",
            "SHIRLEY    7.0\n"
          ],
          "name": "stdout"
        }
      ]
    },
    {
      "cell_type": "code",
      "metadata": {
        "colab": {
          "base_uri": "https://localhost:8080/",
          "height": 135
        },
        "id": "dO29ssLqrUNk",
        "outputId": "7318b8c3-423b-4796-f7bb-7d24cf2fe34d"
      },
      "source": [
        "\"CADASTRO DE CLIENTES\"\n",
        "\n",
        "\"Inclui\" = 1\n",
        "\"Altera\" = 2\n",
        "\"Exclui\" = 3\n",
        "\"Consulta\" = 4\n",
        " \n",
        "input(\"Digite uma opção:\", 0)\n",
        "input(\"Digite uma opção:\", 1)\n",
        "input(\"Digite uma opção:\", 2)\n",
        "input(\"Digite uma opção:\", 3)\n",
        "input(\"Digite uma opção:\", 4)\n",
        "\n",
        "\n",
        "print(\"Fim\") = 0\n",
        "print(\"Inclui\") = 1\n",
        "print(\"Altera\") = 2\n",
        "print(\"Exclui\") = 3\n",
        "print(\"Consulta\") = 4"
      ],
      "execution_count": null,
      "outputs": [
        {
          "output_type": "error",
          "ename": "SyntaxError",
          "evalue": "ignored",
          "traceback": [
            "\u001b[0;36m  File \u001b[0;32m\"<ipython-input-57-f99f1c24c9bf>\"\u001b[0;36m, line \u001b[0;32m3\u001b[0m\n\u001b[0;31m    \"Inclui\" = 1\u001b[0m\n\u001b[0m                ^\u001b[0m\n\u001b[0;31mSyntaxError\u001b[0m\u001b[0;31m:\u001b[0m can't assign to literal\n"
          ]
        }
      ]
    },
    {
      "cell_type": "code",
      "metadata": {
        "colab": {
          "base_uri": "https://localhost:8080/"
        },
        "id": "qBbMVebcxGNX",
        "outputId": "51ba6768-4bb2-407a-c2b5-b678233b8bfb"
      },
      "source": [
        "print(\"Cadastro de Clientes\")\n",
        "\n",
        "print(\"0 - Fim\")\n",
        "print(\"1 - Inclui\")\n",
        "print(\"2 - Altera\")\n",
        "print(\"3 - Exclui\")\n",
        "print(\"4 - Consulta\")\n",
        "\n",
        "print(\"Digite uma opção\")\n",
        "opção = input()\n",
        "print(\"Você escolheu a opção\", opção)\n",
        "\n",
        "\n",
        "\n",
        "\n",
        "\n",
        "\n"
      ],
      "execution_count": null,
      "outputs": [
        {
          "output_type": "stream",
          "text": [
            "Cadastro de Clientes\n",
            "0 - Fim\n",
            "1 - Inclui\n",
            "2 - Altera\n",
            "3 - Exclui\n",
            "4 - Consulta\n",
            "Digite uma opção\n",
            "3\n",
            "Você escolheu a opção 3\n"
          ],
          "name": "stdout"
        }
      ]
    },
    {
      "cell_type": "code",
      "metadata": {
        "id": "t7Y6Ys_Ucn4o",
        "colab": {
          "base_uri": "https://localhost:8080/"
        },
        "outputId": "6b7eca88-0400-418b-9c78-7ce95cb05597"
      },
      "source": [
        "\n",
        "print(\"**Calculadora de Dano**\")\n",
        "print(\"Quantidade de vida de um monstro (entre 10 e 50)\")\n",
        "\n",
        "print(\"Valor do ataque do jogador por turno (entre 5 e 10)\")\n",
        "\n",
        "vida = 11, 12, 13, 14, 15, 16, 17, 18, 19, 20, 21, 22, 23, 24, 25, 26, 27, 28, 29, 30, 31, 32, 33, 34, 35, 36, 37, 38, 39, 40, 41, 42, 43, 44, 45, 46, 47, 48, 49, 50\n",
        "ataque = 5, 6, 7, 8, 9, 10\n",
        "\n",
        "print(\"Selecione o valor para vida de um monstro, em seguida, um valor para ataque:\" )\n",
        "vida = input()\n",
        "ataque =  input()\n",
        "\n",
        "vidas = int(vida)\n",
        "ataques = int(ataque)\n",
        "turnos = int(vida) // int(ataques)\n",
        "\n",
        "print(\"O jogador irá derrotar o monstro em\", turnos, \"turnos.\" )\n",
        "\n",
        "  \n",
        "\n",
        "\n",
        "\n",
        "\n",
        "\n"
      ],
      "execution_count": null,
      "outputs": [
        {
          "output_type": "stream",
          "text": [
            "**Calculadora de Dano**\n",
            "Quantidade de vida de um monstro (entre 10 e 50)\n",
            "Valor do ataque do jogador por turno (entre 5 e 10)\n",
            "Selecione o valor para vida de um monstro, em seguida, um valor para ataque:\n",
            "20\n",
            "10\n",
            "O jogador irá derrotar o monstro em 2 turnos.\n"
          ],
          "name": "stdout"
        }
      ]
    },
    {
      "cell_type": "code",
      "metadata": {
        "colab": {
          "base_uri": "https://localhost:8080/"
        },
        "id": "Y3XAyjypjJZd",
        "outputId": "b5aab220-f191-4da7-cba4-7308e3dd9474"
      },
      "source": [
        "teste = \"ana luiza avelino\"\n",
        "len(teste)"
      ],
      "execution_count": null,
      "outputs": [
        {
          "output_type": "execute_result",
          "data": {
            "text/plain": [
              "17"
            ]
          },
          "metadata": {
            "tags": []
          },
          "execution_count": 42
        }
      ]
    },
    {
      "cell_type": "code",
      "metadata": {
        "colab": {
          "base_uri": "https://localhost:8080/",
          "height": 36
        },
        "id": "rWsR3qhVj5mk",
        "outputId": "a4035407-98a0-4a78-f32b-99e01cf8558f"
      },
      "source": [
        "a = \"black mirror\"\n",
        "a.capitalize()"
      ],
      "execution_count": null,
      "outputs": [
        {
          "output_type": "execute_result",
          "data": {
            "application/vnd.google.colaboratory.intrinsic+json": {
              "type": "string"
            },
            "text/plain": [
              "'Black mirror'"
            ]
          },
          "metadata": {
            "tags": []
          },
          "execution_count": 43
        }
      ]
    },
    {
      "cell_type": "code",
      "metadata": {
        "id": "gbCuFuH8Zx4F"
      },
      "source": [
        ""
      ],
      "execution_count": null,
      "outputs": []
    }
  ]
}