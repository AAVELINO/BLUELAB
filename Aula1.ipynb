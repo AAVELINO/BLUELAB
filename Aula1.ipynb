{
  "nbformat": 4,
  "nbformat_minor": 0,
  "metadata": {
    "colab": {
      "name": "Aula1.ipynb",
      "provenance": [],
      "authorship_tag": "ABX9TyNH2jU5IX5GxsC8wND0m1aM",
      "include_colab_link": true
    },
    "kernelspec": {
      "name": "python3",
      "display_name": "Python 3"
    },
    "language_info": {
      "name": "python"
    },
    "accelerator": "GPU"
  },
  "cells": [
    {
      "cell_type": "markdown",
      "metadata": {
        "id": "view-in-github",
        "colab_type": "text"
      },
      "source": [
        "<a href=\"https://colab.research.google.com/github/AAVELINO/BLUELAB/blob/main/Aula1.ipynb\" target=\"_parent\"><img src=\"https://colab.research.google.com/assets/colab-badge.svg\" alt=\"Open In Colab\"/></a>"
      ]
    },
    {
      "cell_type": "markdown",
      "metadata": {
        "id": "PiA6FPtEFHK9"
      },
      "source": [
        "# Comando Print ()"
      ]
    },
    {
      "cell_type": "code",
      "metadata": {
        "colab": {
          "base_uri": "https://localhost:8080/"
        },
        "id": "fSgkQ8JBFQ0r",
        "outputId": "5c7d49c7-eec5-489d-9ab0-11885e37bfc1"
      },
      "source": [
        "print( 'Olá, Mundo ! ! !')"
      ],
      "execution_count": 5,
      "outputs": [
        {
          "output_type": "stream",
          "text": [
            "Olá, Mundo ! ! !\n"
          ],
          "name": "stdout"
        }
      ]
    },
    {
      "cell_type": "code",
      "metadata": {
        "colab": {
          "base_uri": "https://localhost:8080/"
        },
        "id": "NbRixp9pHARe",
        "outputId": "948cfd9e-ef9c-4251-d937-37b7b4aada25"
      },
      "source": [
        "print(8+29)"
      ],
      "execution_count": 1,
      "outputs": [
        {
          "output_type": "stream",
          "text": [
            "37\n"
          ],
          "name": "stdout"
        }
      ]
    },
    {
      "cell_type": "code",
      "metadata": {
        "colab": {
          "base_uri": "https://localhost:8080/"
        },
        "id": "2mtZUrt4IFTE",
        "outputId": "fe1a5a53-0fb1-4655-b00b-2c82800015cf"
      },
      "source": [
        "print('8+29')"
      ],
      "execution_count": 2,
      "outputs": [
        {
          "output_type": "stream",
          "text": [
            "8+29\n"
          ],
          "name": "stdout"
        }
      ]
    },
    {
      "cell_type": "code",
      "metadata": {
        "colab": {
          "base_uri": "https://localhost:8080/"
        },
        "id": "CK8EJW1iIWwz",
        "outputId": "15b47ce2-f39d-473d-8750-fa314779478f"
      },
      "source": [
        "print(7*28)"
      ],
      "execution_count": 3,
      "outputs": [
        {
          "output_type": "stream",
          "text": [
            "196\n"
          ],
          "name": "stdout"
        }
      ]
    },
    {
      "cell_type": "code",
      "metadata": {
        "colab": {
          "base_uri": "https://localhost:8080/"
        },
        "id": "3d0HlMaDIhYa",
        "outputId": "95e5f757-eaf5-469c-ab98-b282bdf1e38b"
      },
      "source": [
        "8+29\n"
      ],
      "execution_count": 4,
      "outputs": [
        {
          "output_type": "execute_result",
          "data": {
            "text/plain": [
              "37"
            ]
          },
          "metadata": {
            "tags": []
          },
          "execution_count": 4
        }
      ]
    },
    {
      "cell_type": "code",
      "metadata": {
        "colab": {
          "base_uri": "https://localhost:8080/"
        },
        "id": "lTRqme7BJ2g2",
        "outputId": "164378f5-88bf-42cc-b1d4-db9dc557bdea"
      },
      "source": [
        "print(4/3)"
      ],
      "execution_count": 10,
      "outputs": [
        {
          "output_type": "stream",
          "text": [
            "1.3333333333333333\n"
          ],
          "name": "stdout"
        }
      ]
    },
    {
      "cell_type": "code",
      "metadata": {
        "colab": {
          "base_uri": "https://localhost:8080/"
        },
        "id": "Xrw8fIkALg5f",
        "outputId": "6bc58bdb-175d-4ca2-efc3-64d1ecebdf22"
      },
      "source": [
        "print(24/7)"
      ],
      "execution_count": 12,
      "outputs": [
        {
          "output_type": "stream",
          "text": [
            "3.4285714285714284\n"
          ],
          "name": "stdout"
        }
      ]
    },
    {
      "cell_type": "code",
      "metadata": {
        "colab": {
          "base_uri": "https://localhost:8080/"
        },
        "id": "cNgd9O2eMi0v",
        "outputId": "fc51a4f1-04c3-431e-c54b-c8817a924044"
      },
      "source": [
        "a = 3\n",
        "b=2\n",
        "print(a+b)\n",
        "print(a*b)\n",
        "print(a%b)\n"
      ],
      "execution_count": 15,
      "outputs": [
        {
          "output_type": "stream",
          "text": [
            "5\n",
            "6\n",
            "1\n"
          ],
          "name": "stdout"
        }
      ]
    },
    {
      "cell_type": "code",
      "metadata": {
        "colab": {
          "base_uri": "https://localhost:8080/"
        },
        "id": "uIFmGt-iNb3Q",
        "outputId": "bb8bb579-774a-44b6-be7c-ffd544d73a85"
      },
      "source": [
        "soma = 4 + 5\n",
        "\n",
        "print(soma)"
      ],
      "execution_count": 19,
      "outputs": [
        {
          "output_type": "stream",
          "text": [
            "9\n"
          ],
          "name": "stdout"
        }
      ]
    },
    {
      "cell_type": "markdown",
      "metadata": {
        "id": "h5E59u1fN1XX"
      },
      "source": [
        "# Operadores Relacionais"
      ]
    },
    {
      "cell_type": "code",
      "metadata": {
        "colab": {
          "base_uri": "https://localhost:8080/"
        },
        "id": "wHsMmdBjOAI4",
        "outputId": "64875045-1f97-42bf-eec2-8059e178c474"
      },
      "source": [
        "print(2>3)"
      ],
      "execution_count": 20,
      "outputs": [
        {
          "output_type": "stream",
          "text": [
            "False\n"
          ],
          "name": "stdout"
        }
      ]
    },
    {
      "cell_type": "code",
      "metadata": {
        "colab": {
          "base_uri": "https://localhost:8080/"
        },
        "id": "D7CXnJsxPA5s",
        "outputId": "68341c5b-f539-40d4-d2e2-a19cc7ba6f2e"
      },
      "source": [
        "print(2<=5)"
      ],
      "execution_count": 21,
      "outputs": [
        {
          "output_type": "stream",
          "text": [
            "True\n"
          ],
          "name": "stdout"
        }
      ]
    },
    {
      "cell_type": "code",
      "metadata": {
        "colab": {
          "base_uri": "https://localhost:8080/"
        },
        "id": "NT0plFOZPMvS",
        "outputId": "b98ffe9f-43e9-4a1b-c545-7bbf986f8aee"
      },
      "source": [
        "3 !=5\n"
      ],
      "execution_count": 22,
      "outputs": [
        {
          "output_type": "execute_result",
          "data": {
            "text/plain": [
              "True"
            ]
          },
          "metadata": {
            "tags": []
          },
          "execution_count": 22
        }
      ]
    },
    {
      "cell_type": "code",
      "metadata": {
        "colab": {
          "base_uri": "https://localhost:8080/"
        },
        "id": "cDknx4OYPVb9",
        "outputId": "c9511195-f49f-4243-ecde-a959325d7a8d"
      },
      "source": [
        "print(3!=5)"
      ],
      "execution_count": 23,
      "outputs": [
        {
          "output_type": "stream",
          "text": [
            "True\n"
          ],
          "name": "stdout"
        }
      ]
    },
    {
      "cell_type": "code",
      "metadata": {
        "colab": {
          "base_uri": "https://localhost:8080/"
        },
        "id": "orhXdWZDPmuA",
        "outputId": "e6c69001-7ff0-428e-9b59-123f87fb6672"
      },
      "source": [
        "a=5\n",
        "print(a == 5)\n",
        "print(a==4)\n",
        "print(a)\n",
        "  "
      ],
      "execution_count": 25,
      "outputs": [
        {
          "output_type": "stream",
          "text": [
            "True\n",
            "False\n",
            "5\n"
          ],
          "name": "stdout"
        }
      ]
    },
    {
      "cell_type": "code",
      "metadata": {
        "colab": {
          "base_uri": "https://localhost:8080/"
        },
        "id": "-lyvOpjTQJie",
        "outputId": "030a812f-fb64-417c-8b01-30085975d0f8"
      },
      "source": [
        "print('GUSTAVO' == 'gustavo')"
      ],
      "execution_count": 26,
      "outputs": [
        {
          "output_type": "stream",
          "text": [
            "False\n"
          ],
          "name": "stdout"
        }
      ]
    },
    {
      "cell_type": "code",
      "metadata": {
        "colab": {
          "base_uri": "https://localhost:8080/"
        },
        "id": "yJ_bh0e3Quur",
        "outputId": "71a26588-dd39-49ce-f2b7-360ba43afa56"
      },
      "source": [
        "nota = 3 \n",
        "nota <= 6 and nota >= 4 "
      ],
      "execution_count": 28,
      "outputs": [
        {
          "output_type": "execute_result",
          "data": {
            "text/plain": [
              "False"
            ]
          },
          "metadata": {
            "tags": []
          },
          "execution_count": 28
        }
      ]
    },
    {
      "cell_type": "code",
      "metadata": {
        "colab": {
          "base_uri": "https://localhost:8080/"
        },
        "id": "15eWGLTwS1uj",
        "outputId": "53f0dd3e-1eb4-4f8e-eb0d-c8e7a7693110"
      },
      "source": [
        "nota = 5\n",
        "nota <=6 and nota >= 4"
      ],
      "execution_count": 29,
      "outputs": [
        {
          "output_type": "execute_result",
          "data": {
            "text/plain": [
              "True"
            ]
          },
          "metadata": {
            "tags": []
          },
          "execution_count": 29
        }
      ]
    },
    {
      "cell_type": "code",
      "metadata": {
        "colab": {
          "base_uri": "https://localhost:8080/"
        },
        "id": "ZeUEpllJTWY1",
        "outputId": "ca0af53e-0686-42cf-f025-b4880c313db8"
      },
      "source": [
        "nota = 3 \n",
        "nota <= 6 or nota >= 4\n"
      ],
      "execution_count": 38,
      "outputs": [
        {
          "output_type": "execute_result",
          "data": {
            "text/plain": [
              "True"
            ]
          },
          "metadata": {
            "tags": []
          },
          "execution_count": 38
        }
      ]
    }
  ]
}